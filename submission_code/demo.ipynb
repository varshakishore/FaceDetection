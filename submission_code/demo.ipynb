{
 "cells": [
  {
   "cell_type": "code",
   "execution_count": 1,
   "metadata": {},
   "outputs": [],
   "source": [
    "%load_ext autoreload\n",
    "%autoreload 2\n",
    "%matplotlib inline"
   ]
  },
  {
   "cell_type": "code",
   "execution_count": 2,
   "metadata": {},
   "outputs": [],
   "source": [
    "import math\n",
    "import torch\n",
    "import matplotlib.pyplot as plt\n",
    "from tqdm import trange\n",
    "\n",
    "from IPython.display import clear_output\n",
    "\n",
    "from steganogan import SteganoGAN\n",
    "from rnns_utils import BasicDecoder, shuffle_params, load_image_and_target, save_image, error_rate, HammingLoss, hamming_valid\n",
    "from rnns import step_lbfgs\n",
    "from hamming_torch import Hamming74"
   ]
  },
  {
   "cell_type": "markdown",
   "metadata": {},
   "source": [
    "## Configurations"
   ]
  },
  {
   "cell_type": "code",
   "execution_count": 3,
   "metadata": {},
   "outputs": [],
   "source": [
    "num_bits = 3                 # bits per pixel\n",
    "hidden_size = 128            # model width\n",
    "pretrained = False           # whether to use pretrained model\n",
    "pretrained_path = None       # pretrained model's path\n",
    "flatten_image = False        # whether to split the image by channel and combine as a 3x larger grayscale image\n",
    "hamming = True               # whether to use hamming code\n",
    "\n",
    "steps = 2000\n",
    "max_iter = 20\n",
    "lr = 0.1\n",
    "eps = 0.105\n",
    "\n",
    "img_path = \"./data/img.png\""
   ]
  },
  {
   "cell_type": "markdown",
   "metadata": {},
   "source": [
    "## Initialize model"
   ]
  },
  {
   "cell_type": "code",
   "execution_count": null,
   "metadata": {},
   "outputs": [],
   "source": [
    "if hamming:\n",
    "    hm = Hamming74()\n",
    "    bits = math.ceil(num_bits * 7 / 4)\n",
    "    print(f\"using hamming code, payload is {bits} bits per pixel.\")\n",
    "else:\n",
    "    bits = num_bits\n",
    "    hm = None"
   ]
  },
  {
   "cell_type": "code",
   "execution_count": null,
   "metadata": {},
   "outputs": [],
   "source": [
    "if pretrained:\n",
    "    steganogan = SteganoGAN.load(path=pretrained_path, cuda=True, verbose=True)\n",
    "    model = steganogan.decoder\n",
    "else:\n",
    "    model = BasicDecoder(bits, hidden_size, flatten_image)\n",
    "\n",
    "print(model)"
   ]
  },
  {
   "cell_type": "markdown",
   "metadata": {},
   "source": [
    "## Load image and generate target"
   ]
  },
  {
   "cell_type": "code",
   "execution_count": null,
   "metadata": {},
   "outputs": [],
   "source": [
    "image, real_target = load_image_and_target(img_path, num_bits, flatten_image, seed=1111)\n",
    "target = hm.encode(real_target.view(-1)).float().view(-1) if hamming else real_target.clone()\n",
    "\n",
    "model.apply(shuffle_params)\n",
    "model.to('cuda')\n",
    "\n",
    "print(f\"image: {image.shape}, target: {target.shape}\")\n",
    "plt.imshow(image.cpu().numpy()[0].transpose(1, 2, 0))\n",
    "plt.title(\"original image\")"
   ]
  },
  {
   "cell_type": "markdown",
   "metadata": {},
   "source": [
    "## Perform Random Neural Network Steganography"
   ]
  },
  {
   "cell_type": "code",
   "execution_count": null,
   "metadata": {},
   "outputs": [],
   "source": [
    "epsilon = eps - 0.0005\n",
    "adv_image = image.clone().detach()\n",
    "\n",
    "for i in trange(steps // max_iter):\n",
    "    adv_image = step_lbfgs(adv_image, image, target, model, lr, max_iter, epsilon)\n",
    "\n",
    "    err = error_rate(model, adv_image, target, real_target, hm)\n",
    "    \n",
    "    clear_output(wait=True)\n",
    "    plt.imshow(adv_image.cpu().numpy()[0].transpose(1, 2, 0))\n",
    "    plt.title(f\"Error rate: {err*100:0.3f}%\")\n",
    "    plt.show()\n",
    "    \n",
    "    if err == 0:\n",
    "        break\n",
    "        \n",
    "if hamming:\n",
    "    print(\"now using hamming loss\")\n",
    "    for i in trange(steps // max_iter):\n",
    "        adv_image = step_lbfgs(adv_image, image, target, model, lr, max_iter, epsilon, criterion=HammingLoss())\n",
    "\n",
    "        err = error_rate(model, adv_image, target, real_target, hm)\n",
    "\n",
    "        clear_output(wait=True)\n",
    "        plt.imshow(adv_image.cpu().numpy()[0].transpose(1, 2, 0))\n",
    "        plt.title(f\"Error rate: {err*100:0.3f}%\")\n",
    "        plt.show()\n",
    "\n",
    "        if err == 0:\n",
    "            break"
   ]
  },
  {
   "cell_type": "code",
   "execution_count": null,
   "metadata": {},
   "outputs": [],
   "source": [
    "save_image(adv_image, \"./img_out.png\")"
   ]
  }
 ],
 "metadata": {
  "kernelspec": {
   "display_name": "rnns",
   "language": "python",
   "name": "rnns"
  },
  "language_info": {
   "codemirror_mode": {
    "name": "ipython",
    "version": 3
   },
   "file_extension": ".py",
   "mimetype": "text/x-python",
   "name": "python",
   "nbconvert_exporter": "python",
   "pygments_lexer": "ipython3",
   "version": "3.6.13"
  }
 },
 "nbformat": 4,
 "nbformat_minor": 4
}
