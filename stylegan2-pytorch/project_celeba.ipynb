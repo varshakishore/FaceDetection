{
 "cells": [
  {
   "cell_type": "code",
   "execution_count": 2,
   "metadata": {},
   "outputs": [],
   "source": [
    "import os\n",
    "from os import listdir, walk\n",
    "from os.path import join\n",
    "from tqdm import tqdm\n"
   ]
  },
  {
   "cell_type": "code",
   "execution_count": 1,
   "metadata": {},
   "outputs": [
    {
     "name": "stdout",
     "output_type": "stream",
     "text": [
      "/home/rw565/anaconda2/bin/python\r\n"
     ]
    }
   ],
   "source": [
    "! which python"
   ]
  },
  {
   "cell_type": "code",
   "execution_count": null,
   "metadata": {},
   "outputs": [
    {
     "name": "stdout",
     "output_type": "stream",
     "text": [
      "ERROR! Session/line number was not unique in database. History logging moved to new session 1792\n"
     ]
    }
   ],
   "source": [
    "path = '/home/vk352/FaceDetection/datasets/celeba/Img_cropped/train'\n",
    "path_gan = '/home/vk352/FaceDetection/datasets/celeba/gan'\n",
    "folders_gan = listdir(path_gan)\n",
    "folders = sorted(listdir(path))\n",
    "div = len(folders)//4\n",
    "folders = folders[3*div:][::-1]\n",
    "for folder in folders:\n",
    "    if folder in folders_gan:\n",
    "        continue\n",
    "    for (dirpath, dirnames, filenames) in walk(join(path, folder)):\n",
    "        print(folder)\n",
    "        out_folder = f\"/home/vk352/FaceDetection/datasets/celeba/gan/{folder}/\"\n",
    "        os.makedirs(out_folder, exist_ok=True) \n",
    "        filenames = sorted(filenames)[:10]\n",
    "        for i_file in range(0, len(filenames), 5):\n",
    "            files = ' '.join([f\"{dirpath}/\"+elem for elem in filenames[i_file:i_file+5]])\n",
    "            ! /home/rw565/.conda/envs/stylegan2/bin/python projector.py --ckpt stylegan2-ffhq-config-f.pt --size=1024 --step=350 --output_folder={out_folder} {files}"
   ]
  },
  {
   "cell_type": "code",
   "execution_count": null,
   "metadata": {},
   "outputs": [],
   "source": []
  }
 ],
 "metadata": {
  "kernelspec": {
   "display_name": "stylegan2",
   "language": "python",
   "name": "stylegan2"
  },
  "language_info": {
   "codemirror_mode": {
    "name": "ipython",
    "version": 3
   },
   "file_extension": ".py",
   "mimetype": "text/x-python",
   "name": "python",
   "nbconvert_exporter": "python",
   "pygments_lexer": "ipython3",
   "version": "3.7.9"
  }
 },
 "nbformat": 4,
 "nbformat_minor": 4
}
