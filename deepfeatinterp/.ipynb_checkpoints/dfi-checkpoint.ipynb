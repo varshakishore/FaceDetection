{
 "cells": [
  {
   "cell_type": "code",
   "execution_count": 1,
   "metadata": {},
   "outputs": [],
   "source": [
    "#!/usr/bin/env python2\n",
    "\n",
    "from __future__ import division\n",
    "from __future__ import with_statement\n",
    "from __future__ import print_function\n",
    "\n",
    "import numpy as np\n",
    "import deepmodels\n",
    "import json\n",
    "import time\n",
    "import argparse\n",
    "import os.path\n",
    "import subprocess\n",
    "import imageutils\n",
    "import utils\n",
    "\n",
    "# use deepmodels_torch_facenet.py for facenet features instead of vgg features\n",
    "import deepmodels_torch\n"
   ]
  },
  {
   "cell_type": "code",
   "execution_count": 2,
   "metadata": {},
   "outputs": [],
   "source": [
    "# code to change image such that the source image looks more like the target image"
   ]
  },
  {
   "cell_type": "code",
   "execution_count": 3,
   "metadata": {},
   "outputs": [],
   "source": [
    "with open('datasets/lfw/lfw_binary_attributes.json') as f: lfw=json.load(f)\n",
    "with open('datasets/lfw/filelist.txt','r') as f: lfw_filelist=['images/'+x.strip() for x in f.readlines()]"
   ]
  },
  {
   "cell_type": "code",
   "execution_count": 4,
   "metadata": {},
   "outputs": [],
   "source": [
    "backend = 'torch'\n",
    "device_id = 0\n",
    "K = 100\n",
    "scaling = 'beta'\n",
    "itera = 500\n",
    "postprocess=set('color'.split(','))\n",
    "lfw_path = \"/home/vk352/FaceDetection/datasets/lfw\""
   ]
  },
  {
   "cell_type": "code",
   "execution_count": 5,
   "metadata": {},
   "outputs": [],
   "source": [
    "# images of target person \n",
    "lfw_target = [\"images/lfw/George_W_Bush/\"+f for f in os.listdir(lfw_path+'/George_W_Bush') if os.path.isfile(os.path.join(lfw_path+'/George_W_Bush', f))]"
   ]
  },
  {
   "cell_type": "code",
   "execution_count": 7,
   "metadata": {},
   "outputs": [],
   "source": [
    "minimum_resolution=200\n",
    "model=deepmodels_torch.vgg19g_torch(device_id=device_id)"
   ]
  },
  {
   "cell_type": "code",
   "execution_count": 8,
   "metadata": {},
   "outputs": [],
   "source": [
    "# preprocessed lfw images that have the aligned face without the background\n",
    "if not os.path.exists('images/lfw_aegan'):\n",
    "    url='https://www.dropbox.com/s/isz4ske2kheuwgr/lfw_aegan.tar.gz?dl=1'\n",
    "    subprocess.check_call(['wget',url,'-O','lfw_aegan.tar.gz'])\n",
    "    subprocess.check_call(['tar','xzf','lfw_aegan.tar.gz'])\n",
    "    subprocess.check_call(['rm','lfw_aegan.tar.gz'])"
   ]
  },
  {
   "cell_type": "code",
   "execution_count": 9,
   "metadata": {},
   "outputs": [],
   "source": [
    "# list of sounce image that needs to be changed. All souce images will be made like the average of the target image\n",
    "X = ['images/lfw/Tom_Hanks/Tom_Hanks_0005.jpg']"
   ]
  },
  {
   "cell_type": "code",
   "execution_count": 10,
   "metadata": {},
   "outputs": [],
   "source": [
    "K=200\n",
    "delta = '0.4'\n",
    "delta_params=[float(x.strip()) for x in delta.split(',')]\n",
    "# t0=time.time()\n",
    "result=[]\n",
    "original=[]"
   ]
  },
  {
   "cell_type": "code",
   "execution_count": 11,
   "metadata": {
    "scrolled": true
   },
   "outputs": [],
   "source": [
    "for i in range(len(X)):\n",
    "    result.append([])\n",
    "    xX=X[i].replace('lfw','lfw_aegan')\n",
    "    o=imageutils.read(xX)"
   ]
  },
  {
   "cell_type": "code",
   "execution_count": 12,
   "metadata": {},
   "outputs": [],
   "source": [
    "image_dims=o.shape[:2]"
   ]
  },
  {
   "cell_type": "code",
   "execution_count": 13,
   "metadata": {},
   "outputs": [],
   "source": [
    "if min(image_dims)<minimum_resolution:\n",
    "    s=float(minimum_resolution)/min(image_dims)\n",
    "    image_dims=(int(round(image_dims[0]*s)),int(round(image_dims[1]*s)))\n",
    "    o=imageutils.resize(o,image_dims)"
   ]
  },
  {
   "cell_type": "code",
   "execution_count": 14,
   "metadata": {},
   "outputs": [
    {
     "name": "stderr",
     "output_type": "stream",
     "text": [
      "/home/vk352/FaceDetection/deepfeatinterp/deepmodels_torch.py:137: UserWarning: volatile was removed and now has no effect. Use `with torch.no_grad():` instead.\n",
      "  input_var = Variable(input, volatile=True).cuda()\n"
     ]
    }
   ],
   "source": [
    "XF=model.mean_F([o])"
   ]
  },
  {
   "cell_type": "code",
   "execution_count": 15,
   "metadata": {},
   "outputs": [],
   "source": [
    "original.append(o)"
   ]
  },
  {
   "cell_type": "code",
   "execution_count": 16,
   "metadata": {},
   "outputs": [],
   "source": [
    "# the positive images are the images in the target\n",
    "xP = [x.replace('lfw','lfw_aegan') for x in lfw_target]\n",
    "# the negative images are random images. We can also try changing this to images of the source person\n",
    "xQ=[lfw_filelist[i].replace('lfw','lfw_aegan') for i in np.random.choice(len(lfw_filelist), K, replace=False)]"
   ]
  },
  {
   "cell_type": "code",
   "execution_count": 17,
   "metadata": {},
   "outputs": [],
   "source": [
    "PF=model.mean_F(utils.image_feed(xP[:K],image_dims))\n",
    "QF=model.mean_F(utils.image_feed(xQ[:K],image_dims))"
   ]
  },
  {
   "cell_type": "code",
   "execution_count": 18,
   "metadata": {},
   "outputs": [],
   "source": [
    "if scaling=='beta':\n",
    "    WF=(PF-QF)/((PF-QF)**2).mean()\n",
    "elif scaling=='none':\n",
    "    WF=(PF-QF)\n",
    "max_iter=itera\n",
    "init=o"
   ]
  },
  {
   "cell_type": "code",
   "execution_count": 19,
   "metadata": {},
   "outputs": [
    {
     "name": "stdout",
     "output_type": "stream",
     "text": [
      "images/lfw_aegan/Tom_Hanks/Tom_Hanks_0005.jpg 0.1\n"
     ]
    },
    {
     "name": "stderr",
     "output_type": "stream",
     "text": [
      "/home/vk352/anaconda3/lib/python3.7/site-packages/torch/nn/_reduction.py:43: UserWarning: size_average and reduce args will be deprecated, please use reduction='sum' instead.\n",
      "  warnings.warn(warning.format(ret))\n"
     ]
    },
    {
     "name": "stdout",
     "output_type": "stream",
     "text": [
      "0.24623467922210693 minutes to reconstruct\n",
      "images/lfw_aegan/Tom_Hanks/Tom_Hanks_0005.jpg 0.2\n",
      "0.132330850760142 minutes to reconstruct\n",
      "images/lfw_aegan/Tom_Hanks/Tom_Hanks_0005.jpg 0.3\n",
      "0.12034370104471842 minutes to reconstruct\n",
      "images/lfw_aegan/Tom_Hanks/Tom_Hanks_0005.jpg 0.4\n",
      "0.12156476179758707 minutes to reconstruct\n"
     ]
    }
   ],
   "source": [
    "# reconstruct vector XF+delta*WF to image for different deltas\n",
    "for delta in [0.1, 0.2, 0.3, 0.4]:\n",
    "    print(xX,delta)\n",
    "    t2=time.time()\n",
    "    Y=model.F_inverse(XF+delta*WF,max_iter=max_iter,initial_image=init)\n",
    "#     Y=model.F_inverse(PF,max_iter=max_iter,initial_image=init)\n",
    "    t3=time.time()\n",
    "    print('{} minutes to reconstruct'.format((t3-t2)/60.0))\n",
    "    result[-1].append(Y)\n",
    "    max_iter=itera//2\n",
    "    init=Y"
   ]
  },
  {
   "cell_type": "code",
   "execution_count": 20,
   "metadata": {},
   "outputs": [],
   "source": [
    "result=np.asarray(result)\n",
    "original=np.asarray(original)"
   ]
  },
  {
   "cell_type": "code",
   "execution_count": 21,
   "metadata": {},
   "outputs": [
    {
     "name": "stdout",
     "output_type": "stream",
     "text": [
      "Computing color match (1, 1, 200, 200, 3) (1, 4, 200, 200, 3)\n"
     ]
    }
   ],
   "source": [
    "if 'color' in postprocess:\n",
    "    result=utils.color_match(np.expand_dims(original,1),result)"
   ]
  },
  {
   "cell_type": "code",
   "execution_count": 22,
   "metadata": {},
   "outputs": [],
   "source": [
    "m=imageutils.montage(np.concatenate([np.expand_dims(original,1),result],axis=1))"
   ]
  },
  {
   "cell_type": "code",
   "execution_count": 23,
   "metadata": {},
   "outputs": [],
   "source": [
    "imageutils.write('results/coll0.4.png',m)"
   ]
  },
  {
   "cell_type": "code",
   "execution_count": null,
   "metadata": {},
   "outputs": [],
   "source": []
  }
 ],
 "metadata": {
  "kernelspec": {
   "display_name": "Python 3",
   "language": "python",
   "name": "python3"
  },
  "language_info": {
   "codemirror_mode": {
    "name": "ipython",
    "version": 3
   },
   "file_extension": ".py",
   "mimetype": "text/x-python",
   "name": "python",
   "nbconvert_exporter": "python",
   "pygments_lexer": "ipython3",
   "version": "3.8.5"
  }
 },
 "nbformat": 4,
 "nbformat_minor": 2
}
