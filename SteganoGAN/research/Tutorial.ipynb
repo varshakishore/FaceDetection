{
 "cells": [
  {
   "cell_type": "markdown",
   "metadata": {},
   "source": [
    "## Requirements"
   ]
  },
  {
   "cell_type": "markdown",
   "metadata": {},
   "source": [
    "\n",
    "Before using this tutorial, ensure that the following are on your system:\n",
    "\n",
    "- <b>SteganoGAN is installed</b>. Install via pip or source code. \n",
    "- <b>Training and Validation Dataset are available </b>. Download via data/download.sh or retrieve your own.\n",
    "\n",
    "It is also suggested that you have the following:\n",
    "\n",
    "- <b>CUDA-enabled machine</b>. SteganoGAN takes very long to train without a GPU. Use AWS to have access to CUDA machines.\n",
    "\n",
    "\n",
    "Now, we retrieve each of the imports required by steganoGAN\n",
    "\n",
    "## Imports\n"
   ]
  },
  {
   "cell_type": "code",
   "execution_count": 1,
   "metadata": {},
   "outputs": [],
   "source": [
    "import sys\n",
    "sys.path.append(\"..\")"
   ]
  },
  {
   "cell_type": "code",
   "execution_count": 2,
   "metadata": {},
   "outputs": [],
   "source": [
    "import numpy as np #numpy is used for a parameter input"
   ]
  },
  {
   "cell_type": "markdown",
   "metadata": {},
   "source": [
    "This imports the SteganoGAN class which has the wrapper functions for SteganoGAN usage:\n",
    "\n",
    "- <b>Create a SteganoGAN architecture</b> \n",
    "- <b>Train a SteganoGAN architecture</b>\n",
    "- <b>Load a SteganoGAN model</b>\n",
    "- <b>Encode and decode operations for SteganoGAN models</b>\n",
    "\n",
    "We retrieve each of these functions later in the tutorial. "
   ]
  },
  {
   "cell_type": "code",
   "execution_count": 3,
   "metadata": {},
   "outputs": [],
   "source": [
    "from steganogan import SteganoGAN"
   ]
  },
  {
   "cell_type": "markdown",
   "metadata": {},
   "source": [
    "The DataLoader is used to do the following:\n",
    "\n",
    "- <b>Load images</b> from a selected database\n",
    "- <b>Specify hyperparameters</b> for database loading\n"
   ]
  },
  {
   "cell_type": "code",
   "execution_count": 4,
   "metadata": {},
   "outputs": [],
   "source": [
    "from steganogan.loader import DataLoader"
   ]
  },
  {
   "cell_type": "markdown",
   "metadata": {},
   "source": [
    "The encoders are the architectural models that are used to encode the messages inside the image. There are two types of encoders that can be imported:\n",
    "\n",
    "- <b>Basic Encoder</b>: This is memory-efficient but not as robust as the other model\n",
    "- <b>Dense Encoder</b>: This is a more robust model with a denser architecture\n",
    "\n",
    "Please review the SteganoGAN paper for images of the two architectures. A steganoGAN model can only use one of these encoders. You may select which one to use in your model. \n"
   ]
  },
  {
   "cell_type": "code",
   "execution_count": 5,
   "metadata": {},
   "outputs": [],
   "source": [
    "from steganogan.encoders import BasicEncoder, DenseEncoder"
   ]
  },
  {
   "cell_type": "markdown",
   "metadata": {},
   "source": [
    "The decoders are the architectural models that are used to decode the messages inside the image. There are two types of decoders that can be imported:\n",
    "\n",
    "- <b>Basic Decoder</b>: This is memory-efficient but not as robust as the other model\n",
    "- <b>Dense Decoder</b>: This is a more robust model with a denser architecture\n",
    "\n",
    "Please review the SteganoGAN paper for images of the two architectures. A steganoGAN model can only use one of these dector. You may select which one to use in your model. \n"
   ]
  },
  {
   "cell_type": "code",
   "execution_count": 6,
   "metadata": {},
   "outputs": [],
   "source": [
    "from steganogan.decoders import BasicDecoder, DenseDecoder"
   ]
  },
  {
   "cell_type": "markdown",
   "metadata": {},
   "source": [
    "The Critic checks if an image is steganographic or not. At the current moment, we have the following Critic:\n",
    "\n",
    "- <b>Basic Critic</b>: This is a GAN discriminator that ensures images are well hid. \n",
    "\n",
    "SteganoGAN currently only uses a BasicCritic. This parameter will never be changed \n"
   ]
  },
  {
   "cell_type": "code",
   "execution_count": 7,
   "metadata": {},
   "outputs": [],
   "source": [
    "from steganogan.critics import BasicCritic"
   ]
  },
  {
   "cell_type": "markdown",
   "metadata": {},
   "source": [
    "## Loading Data\n",
    "\n",
    "\n",
    "In the next cell, we load in the data for our training and validation dataset. The training dataset is used to train the model while the validation dataset is used to ensure that the model is working correctly. There are several parameters that can you choose to tune.\n",
    "\n",
    "- <b>path:str</b> - This can be a relative path or an absolute path from the notebook file. \n",
    "\n",
    "- <b>limit:int</b> - The number of images you wish to use. If limit is set as np.inf, all the images in the directory will be used.\n",
    "\n",
    "- <b>shuffle:bool</b> - If true, your images will be randomly shuffled before being used for training.\n",
    "\n",
    "- <b>batch_size:int</b> - The number of images to use in a batch. A batch represents the number of images that are trained in a single training cycle (i.e. batch_size=10, means 10 images are sent through the network at once during training)"
   ]
  },
  {
   "cell_type": "code",
   "execution_count": 8,
   "metadata": {},
   "outputs": [],
   "source": [
    "# Load the data\n",
    "train = DataLoader('/home/vk352/FaceDetection/datasets/div2k/train/', limit=np.inf, shuffle=True, batch_size=4)\n",
    "\n",
    "\n",
    "validation = DataLoader('/home/vk352/FaceDetection/datasets/div2k/val/', limit=np.inf, shuffle=True, batch_size=4)"
   ]
  },
  {
   "cell_type": "markdown",
   "metadata": {},
   "source": [
    "## Selecting an Architecture\n",
    "\n",
    "Below we are deciding on the architecture that we want to use for SteganoGAN. There are several parameters that you can tune here to decide on the architecture. Let us go over them:\n",
    "\n",
    "- <b>data_depth:int</b> - Represents how many layers we want to represent the data with. Currently, data is representated as a N x data_depth x H x W. Usually, we set this to 1 since that suffices for our needs. For more robustness set this data depth to a higher number.\n",
    "- <b>encoder:EncoderInstance</b> - You can choose either a BasicEncoder or DenseEncoder.\n",
    "- <b>decoder:DecoderInstance</b> - You can choose either a DenseEncoder or DenseDecoder.\n",
    "- <b>critic:CritcInstance</b> - The only option is the BasicCritic\n",
    "- <b>hidden_size:int</b> - The number of channels we wish to use in the hidden layers of our architecture. You can tune this parameter. We chose 32 as we find relatively good models with these number of channels.\n",
    "- <b>cuda:bool</b> - If true and the machine is CUDA-enabled, CUDA will be used for training/execution\n",
    "- <b>verbose:bool</b> - If true, the system will print more output to console"
   ]
  },
  {
   "cell_type": "code",
   "execution_count": 9,
   "metadata": {},
   "outputs": [
    {
     "name": "stdout",
     "output_type": "stream",
     "text": [
      "Using CUDA device\n"
     ]
    }
   ],
   "source": [
    "# Create the SteganoGAN instance\n",
    "steganogan = SteganoGAN(1, BasicEncoder, BasicDecoder, BasicCritic, hidden_size=32, cuda=True, verbose=True)"
   ]
  },
  {
   "cell_type": "markdown",
   "metadata": {},
   "source": [
    "## Training and Saving the Model\n",
    "\n",
    "\n",
    "Once the architecture has been decided and the training and validation data are we loaded, we can begin training. To train call the fit function with the following parameter options:\n",
    "\n",
    "- <b>train:DataLoaderInstance</b> - This is the training set that you loaded earlier.\n",
    "- <b>validation:DataLoaderInstance</b> - This is the validation that you loaded earlier.\n",
    "- <b>epochs:int</b> - This is the number of epochs you wish to train for. A larger number of epochs will lead to a more precise model. \n"
   ]
  },
  {
   "cell_type": "code",
   "execution_count": null,
   "metadata": {},
   "outputs": [
    {
     "name": "stderr",
     "output_type": "stream",
     "text": [
      "\r",
      "  0%|          | 0/200 [00:00<?, ?it/s]"
     ]
    },
    {
     "name": "stdout",
     "output_type": "stream",
     "text": [
      "in fit\n",
      "Epoch 1/100\n"
     ]
    },
    {
     "name": "stderr",
     "output_type": "stream",
     "text": [
      "100%|██████████| 200/200 [00:52<00:00,  3.84it/s]\n",
      "100%|██████████| 200/200 [00:53<00:00,  3.72it/s]\n",
      "100%|██████████| 25/25 [00:07<00:00,  3.51it/s]\n",
      "  0%|          | 0/200 [00:00<?, ?it/s]"
     ]
    },
    {
     "name": "stdout",
     "output_type": "stream",
     "text": [
      "Epoch 2/100\n"
     ]
    },
    {
     "name": "stderr",
     "output_type": "stream",
     "text": [
      "100%|██████████| 200/200 [00:51<00:00,  3.86it/s]\n",
      "100%|██████████| 200/200 [00:54<00:00,  3.70it/s]\n",
      "100%|██████████| 25/25 [00:07<00:00,  3.45it/s]\n",
      "  0%|          | 0/200 [00:00<?, ?it/s]"
     ]
    },
    {
     "name": "stdout",
     "output_type": "stream",
     "text": [
      "Epoch 3/100\n"
     ]
    },
    {
     "name": "stderr",
     "output_type": "stream",
     "text": [
      "100%|██████████| 200/200 [00:51<00:00,  3.86it/s]\n",
      "100%|██████████| 200/200 [00:54<00:00,  3.70it/s]\n",
      "100%|██████████| 25/25 [00:07<00:00,  3.55it/s]\n",
      "  0%|          | 0/200 [00:00<?, ?it/s]"
     ]
    },
    {
     "name": "stdout",
     "output_type": "stream",
     "text": [
      "Epoch 4/100\n"
     ]
    },
    {
     "name": "stderr",
     "output_type": "stream",
     "text": [
      "100%|██████████| 200/200 [00:51<00:00,  3.86it/s]\n",
      "100%|██████████| 200/200 [00:54<00:00,  3.70it/s]\n",
      "100%|██████████| 25/25 [00:07<00:00,  3.42it/s]\n",
      "  0%|          | 0/200 [00:00<?, ?it/s]"
     ]
    },
    {
     "name": "stdout",
     "output_type": "stream",
     "text": [
      "Epoch 5/100\n"
     ]
    },
    {
     "name": "stderr",
     "output_type": "stream",
     "text": [
      "100%|██████████| 200/200 [00:51<00:00,  3.86it/s]\n",
      "100%|██████████| 200/200 [00:53<00:00,  3.71it/s]\n",
      "100%|██████████| 25/25 [00:07<00:00,  3.48it/s]\n",
      "  0%|          | 0/200 [00:00<?, ?it/s]"
     ]
    },
    {
     "name": "stdout",
     "output_type": "stream",
     "text": [
      "Epoch 6/100\n"
     ]
    },
    {
     "name": "stderr",
     "output_type": "stream",
     "text": [
      "100%|██████████| 200/200 [00:51<00:00,  3.86it/s]\n",
      "100%|██████████| 200/200 [00:53<00:00,  3.71it/s]\n",
      "100%|██████████| 25/25 [00:07<00:00,  3.44it/s]\n",
      "  0%|          | 0/200 [00:00<?, ?it/s]"
     ]
    },
    {
     "name": "stdout",
     "output_type": "stream",
     "text": [
      "Epoch 7/100\n"
     ]
    },
    {
     "name": "stderr",
     "output_type": "stream",
     "text": [
      "100%|██████████| 200/200 [00:52<00:00,  3.83it/s]\n",
      "100%|██████████| 200/200 [00:54<00:00,  3.69it/s]\n",
      "100%|██████████| 25/25 [00:07<00:00,  3.55it/s]\n",
      "  0%|          | 0/200 [00:00<?, ?it/s]"
     ]
    },
    {
     "name": "stdout",
     "output_type": "stream",
     "text": [
      "Epoch 8/100\n"
     ]
    },
    {
     "name": "stderr",
     "output_type": "stream",
     "text": [
      "100%|██████████| 200/200 [00:51<00:00,  3.87it/s]\n",
      "100%|██████████| 200/200 [00:53<00:00,  3.71it/s]\n",
      "100%|██████████| 25/25 [00:06<00:00,  3.58it/s]\n",
      "  0%|          | 0/200 [00:00<?, ?it/s]"
     ]
    },
    {
     "name": "stdout",
     "output_type": "stream",
     "text": [
      "Epoch 9/100\n"
     ]
    },
    {
     "name": "stderr",
     "output_type": "stream",
     "text": [
      "100%|██████████| 200/200 [00:51<00:00,  3.87it/s]\n",
      "100%|██████████| 200/200 [00:54<00:00,  3.70it/s]\n",
      "100%|██████████| 25/25 [00:07<00:00,  3.50it/s]\n",
      "  0%|          | 0/200 [00:00<?, ?it/s]"
     ]
    },
    {
     "name": "stdout",
     "output_type": "stream",
     "text": [
      "Epoch 10/100\n"
     ]
    },
    {
     "name": "stderr",
     "output_type": "stream",
     "text": [
      "100%|██████████| 200/200 [00:51<00:00,  3.85it/s]\n",
      "100%|██████████| 200/200 [00:53<00:00,  3.71it/s]\n",
      "100%|██████████| 25/25 [00:07<00:00,  3.46it/s]\n",
      "  0%|          | 0/200 [00:00<?, ?it/s]"
     ]
    },
    {
     "name": "stdout",
     "output_type": "stream",
     "text": [
      "Epoch 11/100\n"
     ]
    },
    {
     "name": "stderr",
     "output_type": "stream",
     "text": [
      "100%|██████████| 200/200 [00:51<00:00,  3.87it/s]\n",
      "100%|██████████| 200/200 [00:53<00:00,  3.71it/s]\n",
      "100%|██████████| 25/25 [00:07<00:00,  3.53it/s]\n",
      "  0%|          | 0/200 [00:00<?, ?it/s]"
     ]
    },
    {
     "name": "stdout",
     "output_type": "stream",
     "text": [
      "Epoch 12/100\n"
     ]
    },
    {
     "name": "stderr",
     "output_type": "stream",
     "text": [
      "100%|██████████| 200/200 [00:52<00:00,  3.84it/s]\n",
      "100%|██████████| 200/200 [00:53<00:00,  3.72it/s]\n",
      "100%|██████████| 25/25 [00:07<00:00,  3.47it/s]\n",
      "  0%|          | 0/200 [00:00<?, ?it/s]"
     ]
    },
    {
     "name": "stdout",
     "output_type": "stream",
     "text": [
      "Epoch 13/100\n"
     ]
    },
    {
     "name": "stderr",
     "output_type": "stream",
     "text": [
      "100%|██████████| 200/200 [00:51<00:00,  3.85it/s]\n",
      "100%|██████████| 200/200 [00:53<00:00,  3.72it/s]\n",
      "100%|██████████| 25/25 [00:07<00:00,  3.48it/s]\n",
      "  0%|          | 0/200 [00:00<?, ?it/s]"
     ]
    },
    {
     "name": "stdout",
     "output_type": "stream",
     "text": [
      "Epoch 14/100\n"
     ]
    },
    {
     "name": "stderr",
     "output_type": "stream",
     "text": [
      "100%|██████████| 200/200 [00:51<00:00,  3.87it/s]\n",
      "100%|██████████| 200/200 [00:53<00:00,  3.71it/s]\n",
      "100%|██████████| 25/25 [00:07<00:00,  3.49it/s]\n",
      "  0%|          | 0/200 [00:00<?, ?it/s]"
     ]
    },
    {
     "name": "stdout",
     "output_type": "stream",
     "text": [
      "Epoch 15/100\n"
     ]
    },
    {
     "name": "stderr",
     "output_type": "stream",
     "text": [
      "100%|██████████| 200/200 [00:51<00:00,  3.85it/s]\n",
      "100%|██████████| 200/200 [00:53<00:00,  3.71it/s]\n",
      "100%|██████████| 25/25 [00:07<00:00,  3.51it/s]\n",
      "  0%|          | 0/200 [00:00<?, ?it/s]"
     ]
    },
    {
     "name": "stdout",
     "output_type": "stream",
     "text": [
      "Epoch 16/100\n"
     ]
    },
    {
     "name": "stderr",
     "output_type": "stream",
     "text": [
      "100%|██████████| 200/200 [00:52<00:00,  3.82it/s]\n",
      "100%|██████████| 200/200 [00:53<00:00,  3.73it/s]\n",
      "100%|██████████| 25/25 [00:07<00:00,  3.52it/s]\n",
      "  0%|          | 0/200 [00:00<?, ?it/s]"
     ]
    },
    {
     "name": "stdout",
     "output_type": "stream",
     "text": [
      "Epoch 17/100\n"
     ]
    },
    {
     "name": "stderr",
     "output_type": "stream",
     "text": [
      "100%|██████████| 200/200 [00:52<00:00,  3.83it/s]\n",
      "100%|██████████| 200/200 [00:54<00:00,  3.70it/s]\n",
      "100%|██████████| 25/25 [00:07<00:00,  3.51it/s]\n",
      "  0%|          | 0/200 [00:00<?, ?it/s]"
     ]
    },
    {
     "name": "stdout",
     "output_type": "stream",
     "text": [
      "Epoch 18/100\n"
     ]
    },
    {
     "name": "stderr",
     "output_type": "stream",
     "text": [
      "100%|██████████| 200/200 [00:52<00:00,  3.83it/s]\n",
      "100%|██████████| 200/200 [00:53<00:00,  3.72it/s]\n",
      "100%|██████████| 25/25 [00:07<00:00,  3.46it/s]\n",
      "  0%|          | 0/200 [00:00<?, ?it/s]"
     ]
    },
    {
     "name": "stdout",
     "output_type": "stream",
     "text": [
      "Epoch 19/100\n"
     ]
    },
    {
     "name": "stderr",
     "output_type": "stream",
     "text": [
      "100%|██████████| 200/200 [00:51<00:00,  3.85it/s]\n",
      "100%|██████████| 200/200 [00:54<00:00,  3.69it/s]\n",
      "100%|██████████| 25/25 [00:07<00:00,  3.41it/s]\n",
      "  0%|          | 0/200 [00:00<?, ?it/s]"
     ]
    },
    {
     "name": "stdout",
     "output_type": "stream",
     "text": [
      "Epoch 20/100\n"
     ]
    },
    {
     "name": "stderr",
     "output_type": "stream",
     "text": [
      "100%|██████████| 200/200 [00:55<00:00,  3.62it/s]\n",
      "100%|██████████| 200/200 [01:04<00:00,  3.09it/s]\n",
      "100%|██████████| 25/25 [00:07<00:00,  3.26it/s]\n",
      "  0%|          | 0/200 [00:00<?, ?it/s]"
     ]
    },
    {
     "name": "stdout",
     "output_type": "stream",
     "text": [
      "Epoch 21/100\n"
     ]
    },
    {
     "name": "stderr",
     "output_type": "stream",
     "text": [
      "100%|██████████| 200/200 [00:52<00:00,  3.84it/s]\n",
      "100%|██████████| 200/200 [01:03<00:00,  3.16it/s]\n",
      "100%|██████████| 25/25 [00:08<00:00,  2.85it/s]\n",
      "  0%|          | 0/200 [00:00<?, ?it/s]"
     ]
    },
    {
     "name": "stdout",
     "output_type": "stream",
     "text": [
      "Epoch 22/100\n"
     ]
    },
    {
     "name": "stderr",
     "output_type": "stream",
     "text": [
      "100%|██████████| 200/200 [00:54<00:00,  3.67it/s]\n",
      "100%|██████████| 200/200 [00:53<00:00,  3.72it/s]\n",
      "100%|██████████| 25/25 [00:07<00:00,  3.46it/s]\n",
      "  0%|          | 0/200 [00:00<?, ?it/s]"
     ]
    },
    {
     "name": "stdout",
     "output_type": "stream",
     "text": [
      "Epoch 23/100\n"
     ]
    },
    {
     "name": "stderr",
     "output_type": "stream",
     "text": [
      "100%|██████████| 200/200 [00:52<00:00,  3.83it/s]\n",
      "100%|██████████| 200/200 [00:54<00:00,  3.69it/s]\n",
      "100%|██████████| 25/25 [00:07<00:00,  3.52it/s]\n",
      "  0%|          | 0/200 [00:00<?, ?it/s]"
     ]
    },
    {
     "name": "stdout",
     "output_type": "stream",
     "text": [
      "Epoch 24/100\n"
     ]
    },
    {
     "name": "stderr",
     "output_type": "stream",
     "text": [
      "100%|██████████| 200/200 [00:52<00:00,  3.80it/s]\n",
      "100%|██████████| 200/200 [00:53<00:00,  3.70it/s]\n",
      "100%|██████████| 25/25 [00:07<00:00,  3.49it/s]\n",
      "  0%|          | 0/200 [00:00<?, ?it/s]"
     ]
    },
    {
     "name": "stdout",
     "output_type": "stream",
     "text": [
      "Epoch 25/100\n"
     ]
    },
    {
     "name": "stderr",
     "output_type": "stream",
     "text": [
      "100%|██████████| 200/200 [00:52<00:00,  3.84it/s]\n",
      "100%|██████████| 200/200 [00:54<00:00,  3.70it/s]\n",
      "100%|██████████| 25/25 [00:07<00:00,  3.42it/s]\n",
      "  0%|          | 0/200 [00:00<?, ?it/s]"
     ]
    },
    {
     "name": "stdout",
     "output_type": "stream",
     "text": [
      "Epoch 26/100\n"
     ]
    },
    {
     "name": "stderr",
     "output_type": "stream",
     "text": [
      "100%|██████████| 200/200 [00:51<00:00,  3.85it/s]\n",
      "100%|██████████| 200/200 [00:53<00:00,  3.73it/s]\n",
      "100%|██████████| 25/25 [00:06<00:00,  3.57it/s]\n",
      "  0%|          | 0/200 [00:00<?, ?it/s]"
     ]
    },
    {
     "name": "stdout",
     "output_type": "stream",
     "text": [
      "Epoch 27/100\n"
     ]
    },
    {
     "name": "stderr",
     "output_type": "stream",
     "text": [
      "100%|██████████| 200/200 [00:51<00:00,  3.85it/s]\n",
      "100%|██████████| 200/200 [00:53<00:00,  3.72it/s]\n",
      "100%|██████████| 25/25 [00:07<00:00,  3.53it/s]\n",
      "  0%|          | 0/200 [00:00<?, ?it/s]"
     ]
    },
    {
     "name": "stdout",
     "output_type": "stream",
     "text": [
      "Epoch 28/100\n"
     ]
    },
    {
     "name": "stderr",
     "output_type": "stream",
     "text": [
      "100%|██████████| 200/200 [00:52<00:00,  3.84it/s]\n",
      "100%|██████████| 200/200 [00:54<00:00,  3.70it/s]\n",
      "100%|██████████| 25/25 [00:07<00:00,  3.54it/s]\n",
      "  0%|          | 0/200 [00:00<?, ?it/s]"
     ]
    },
    {
     "name": "stdout",
     "output_type": "stream",
     "text": [
      "Epoch 29/100\n"
     ]
    },
    {
     "name": "stderr",
     "output_type": "stream",
     "text": [
      "100%|██████████| 200/200 [00:52<00:00,  3.84it/s]\n",
      "100%|██████████| 200/200 [00:54<00:00,  3.69it/s]\n",
      "100%|██████████| 25/25 [00:07<00:00,  3.57it/s]\n",
      "  0%|          | 0/200 [00:00<?, ?it/s]"
     ]
    },
    {
     "name": "stdout",
     "output_type": "stream",
     "text": [
      "Epoch 30/100\n"
     ]
    },
    {
     "name": "stderr",
     "output_type": "stream",
     "text": [
      "100%|██████████| 200/200 [00:52<00:00,  3.84it/s]\n",
      "100%|██████████| 200/200 [00:53<00:00,  3.71it/s]\n",
      "100%|██████████| 25/25 [00:07<00:00,  3.47it/s]\n",
      "  0%|          | 0/200 [00:00<?, ?it/s]"
     ]
    },
    {
     "name": "stdout",
     "output_type": "stream",
     "text": [
      "Epoch 31/100\n"
     ]
    },
    {
     "name": "stderr",
     "output_type": "stream",
     "text": [
      "100%|██████████| 200/200 [00:51<00:00,  3.85it/s]\n",
      "100%|██████████| 200/200 [00:53<00:00,  3.71it/s]\n",
      "100%|██████████| 25/25 [00:07<00:00,  3.56it/s]\n",
      "  0%|          | 0/200 [00:00<?, ?it/s]"
     ]
    },
    {
     "name": "stdout",
     "output_type": "stream",
     "text": [
      "Epoch 32/100\n"
     ]
    },
    {
     "name": "stderr",
     "output_type": "stream",
     "text": [
      "100%|██████████| 200/200 [00:52<00:00,  3.83it/s]\n",
      "100%|██████████| 200/200 [00:54<00:00,  3.70it/s]\n",
      "100%|██████████| 25/25 [00:07<00:00,  3.47it/s]\n",
      "  0%|          | 0/200 [00:00<?, ?it/s]"
     ]
    },
    {
     "name": "stdout",
     "output_type": "stream",
     "text": [
      "Epoch 33/100\n"
     ]
    },
    {
     "name": "stderr",
     "output_type": "stream",
     "text": [
      "100%|██████████| 200/200 [00:51<00:00,  3.85it/s]\n",
      "100%|██████████| 200/200 [00:53<00:00,  3.71it/s]\n",
      "100%|██████████| 25/25 [00:07<00:00,  3.48it/s]\n",
      "  0%|          | 0/200 [00:00<?, ?it/s]"
     ]
    },
    {
     "name": "stdout",
     "output_type": "stream",
     "text": [
      "Epoch 34/100\n"
     ]
    },
    {
     "name": "stderr",
     "output_type": "stream",
     "text": [
      "100%|██████████| 200/200 [00:51<00:00,  3.85it/s]\n",
      "100%|██████████| 200/200 [00:53<00:00,  3.73it/s]\n",
      "100%|██████████| 25/25 [00:07<00:00,  3.51it/s]\n",
      "  0%|          | 0/200 [00:00<?, ?it/s]"
     ]
    },
    {
     "name": "stdout",
     "output_type": "stream",
     "text": [
      "Epoch 35/100\n"
     ]
    },
    {
     "name": "stderr",
     "output_type": "stream",
     "text": [
      "100%|██████████| 200/200 [00:51<00:00,  3.86it/s]\n",
      "100%|██████████| 200/200 [00:53<00:00,  3.71it/s]\n",
      "100%|██████████| 25/25 [00:07<00:00,  3.50it/s]\n",
      "  0%|          | 0/200 [00:00<?, ?it/s]"
     ]
    },
    {
     "name": "stdout",
     "output_type": "stream",
     "text": [
      "Epoch 36/100\n"
     ]
    },
    {
     "name": "stderr",
     "output_type": "stream",
     "text": [
      "100%|██████████| 200/200 [00:51<00:00,  3.85it/s]\n",
      "100%|██████████| 200/200 [00:53<00:00,  3.71it/s]\n",
      "100%|██████████| 25/25 [00:07<00:00,  3.56it/s]\n",
      "  0%|          | 0/200 [00:00<?, ?it/s]"
     ]
    },
    {
     "name": "stdout",
     "output_type": "stream",
     "text": [
      "Epoch 37/100\n"
     ]
    },
    {
     "name": "stderr",
     "output_type": "stream",
     "text": [
      "100%|██████████| 200/200 [00:51<00:00,  3.85it/s]\n",
      "100%|██████████| 200/200 [00:54<00:00,  3.70it/s]\n",
      "100%|██████████| 25/25 [00:07<00:00,  3.43it/s]\n",
      "  0%|          | 0/200 [00:00<?, ?it/s]"
     ]
    },
    {
     "name": "stdout",
     "output_type": "stream",
     "text": [
      "Epoch 38/100\n"
     ]
    },
    {
     "name": "stderr",
     "output_type": "stream",
     "text": [
      "100%|██████████| 200/200 [00:51<00:00,  3.86it/s]\n",
      "100%|██████████| 200/200 [00:54<00:00,  3.66it/s]\n",
      "100%|██████████| 25/25 [00:07<00:00,  3.52it/s]\n",
      "  0%|          | 0/200 [00:00<?, ?it/s]"
     ]
    },
    {
     "name": "stdout",
     "output_type": "stream",
     "text": [
      "Epoch 39/100\n"
     ]
    },
    {
     "name": "stderr",
     "output_type": "stream",
     "text": [
      "100%|██████████| 200/200 [00:52<00:00,  3.84it/s]\n",
      "100%|██████████| 200/200 [00:53<00:00,  3.72it/s]\n",
      "100%|██████████| 25/25 [00:07<00:00,  3.52it/s]\n",
      "  0%|          | 0/200 [00:00<?, ?it/s]"
     ]
    },
    {
     "name": "stdout",
     "output_type": "stream",
     "text": [
      "Epoch 40/100\n"
     ]
    },
    {
     "name": "stderr",
     "output_type": "stream",
     "text": [
      "100%|██████████| 200/200 [00:52<00:00,  3.83it/s]\n",
      "100%|██████████| 200/200 [00:53<00:00,  3.70it/s]\n",
      "100%|██████████| 25/25 [00:07<00:00,  3.56it/s]\n",
      "  0%|          | 0/200 [00:00<?, ?it/s]"
     ]
    },
    {
     "name": "stdout",
     "output_type": "stream",
     "text": [
      "Epoch 41/100\n"
     ]
    },
    {
     "name": "stderr",
     "output_type": "stream",
     "text": [
      "100%|██████████| 200/200 [00:51<00:00,  3.88it/s]\n",
      "100%|██████████| 200/200 [00:54<00:00,  3.70it/s]\n",
      "100%|██████████| 25/25 [00:07<00:00,  3.56it/s]\n",
      "  0%|          | 0/200 [00:00<?, ?it/s]"
     ]
    },
    {
     "name": "stdout",
     "output_type": "stream",
     "text": [
      "Epoch 42/100\n"
     ]
    },
    {
     "name": "stderr",
     "output_type": "stream",
     "text": [
      "100%|██████████| 200/200 [00:51<00:00,  3.86it/s]\n",
      "100%|██████████| 200/200 [00:53<00:00,  3.73it/s]\n",
      "100%|██████████| 25/25 [00:07<00:00,  3.47it/s]\n",
      "  0%|          | 0/200 [00:00<?, ?it/s]"
     ]
    },
    {
     "name": "stdout",
     "output_type": "stream",
     "text": [
      "Epoch 43/100\n"
     ]
    },
    {
     "name": "stderr",
     "output_type": "stream",
     "text": [
      "100%|██████████| 200/200 [00:52<00:00,  3.82it/s]\n",
      "100%|██████████| 200/200 [00:53<00:00,  3.70it/s]\n",
      "100%|██████████| 25/25 [00:07<00:00,  3.51it/s]\n",
      "  0%|          | 0/200 [00:00<?, ?it/s]"
     ]
    },
    {
     "name": "stdout",
     "output_type": "stream",
     "text": [
      "Epoch 44/100\n"
     ]
    },
    {
     "name": "stderr",
     "output_type": "stream",
     "text": [
      "100%|██████████| 200/200 [00:52<00:00,  3.82it/s]\n",
      "100%|██████████| 200/200 [00:53<00:00,  3.71it/s]\n",
      "100%|██████████| 25/25 [00:07<00:00,  3.50it/s]\n",
      "  0%|          | 0/200 [00:00<?, ?it/s]"
     ]
    },
    {
     "name": "stdout",
     "output_type": "stream",
     "text": [
      "Epoch 45/100\n"
     ]
    },
    {
     "name": "stderr",
     "output_type": "stream",
     "text": [
      "100%|██████████| 200/200 [00:52<00:00,  3.84it/s]\n",
      "100%|██████████| 200/200 [00:54<00:00,  3.70it/s]\n",
      "100%|██████████| 25/25 [00:07<00:00,  3.46it/s]\n",
      "  0%|          | 0/200 [00:00<?, ?it/s]"
     ]
    },
    {
     "name": "stdout",
     "output_type": "stream",
     "text": [
      "Epoch 46/100\n"
     ]
    },
    {
     "name": "stderr",
     "output_type": "stream",
     "text": [
      "100%|██████████| 200/200 [00:56<00:00,  3.54it/s]\n",
      "100%|██████████| 200/200 [01:02<00:00,  3.18it/s]\n",
      "100%|██████████| 200/200 [01:06<00:00,  3.02it/s]\n",
      "100%|██████████| 25/25 [00:09<00:00,  2.69it/s]\n",
      "  0%|          | 0/200 [00:00<?, ?it/s]"
     ]
    },
    {
     "name": "stdout",
     "output_type": "stream",
     "text": [
      "Epoch 48/100\n"
     ]
    },
    {
     "name": "stderr",
     "output_type": "stream",
     "text": [
      "100%|██████████| 200/200 [01:01<00:00,  3.25it/s]\n",
      "100%|██████████| 200/200 [01:05<00:00,  3.05it/s]\n",
      "100%|██████████| 25/25 [00:09<00:00,  2.77it/s]\n",
      "  0%|          | 0/200 [00:00<?, ?it/s]"
     ]
    },
    {
     "name": "stdout",
     "output_type": "stream",
     "text": [
      "Epoch 49/100\n"
     ]
    },
    {
     "name": "stderr",
     "output_type": "stream",
     "text": [
      "100%|██████████| 200/200 [00:57<00:00,  3.46it/s]\n",
      "100%|██████████| 200/200 [00:53<00:00,  3.71it/s]\n",
      "100%|██████████| 25/25 [00:07<00:00,  3.50it/s]\n",
      "  0%|          | 0/200 [00:00<?, ?it/s]"
     ]
    },
    {
     "name": "stdout",
     "output_type": "stream",
     "text": [
      "Epoch 50/100\n"
     ]
    },
    {
     "name": "stderr",
     "output_type": "stream",
     "text": [
      "100%|██████████| 200/200 [00:51<00:00,  3.85it/s]\n",
      "100%|██████████| 200/200 [00:53<00:00,  3.71it/s]\n",
      "100%|██████████| 25/25 [00:07<00:00,  3.52it/s]\n",
      "  0%|          | 0/200 [00:00<?, ?it/s]"
     ]
    },
    {
     "name": "stdout",
     "output_type": "stream",
     "text": [
      "Epoch 51/100\n"
     ]
    },
    {
     "name": "stderr",
     "output_type": "stream",
     "text": [
      "100%|██████████| 200/200 [00:52<00:00,  3.82it/s]\n",
      "100%|██████████| 200/200 [00:53<00:00,  3.74it/s]\n",
      "100%|██████████| 25/25 [00:06<00:00,  3.58it/s]\n",
      "  0%|          | 0/200 [00:00<?, ?it/s]"
     ]
    },
    {
     "name": "stdout",
     "output_type": "stream",
     "text": [
      "Epoch 52/100\n"
     ]
    },
    {
     "name": "stderr",
     "output_type": "stream",
     "text": [
      "100%|██████████| 200/200 [00:51<00:00,  3.86it/s]\n",
      "100%|██████████| 200/200 [00:53<00:00,  3.72it/s]\n",
      "100%|██████████| 25/25 [00:07<00:00,  3.52it/s]\n",
      "  0%|          | 0/200 [00:00<?, ?it/s]"
     ]
    },
    {
     "name": "stdout",
     "output_type": "stream",
     "text": [
      "Epoch 53/100\n"
     ]
    },
    {
     "name": "stderr",
     "output_type": "stream",
     "text": [
      "100%|██████████| 200/200 [00:51<00:00,  3.85it/s]\n",
      "100%|██████████| 200/200 [00:53<00:00,  3.71it/s]\n",
      "100%|██████████| 25/25 [00:07<00:00,  3.55it/s]\n",
      "  0%|          | 0/200 [00:00<?, ?it/s]"
     ]
    },
    {
     "name": "stdout",
     "output_type": "stream",
     "text": [
      "Epoch 54/100\n"
     ]
    },
    {
     "name": "stderr",
     "output_type": "stream",
     "text": [
      " 70%|███████   | 140/200 [00:37<00:14,  4.12it/s]IOPub message rate exceeded.\n",
      "The notebook server will temporarily stop sending output\n",
      "to the client in order to avoid crashing it.\n",
      "To change this limit, set the config variable\n",
      "`--NotebookApp.iopub_msg_rate_limit`.\n",
      "\n",
      "Current values:\n",
      "NotebookApp.iopub_msg_rate_limit=1000.0 (msgs/sec)\n",
      "NotebookApp.rate_limit_window=3.0 (secs)\n",
      "\n"
     ]
    }
   ],
   "source": [
    "# Fit on the given data\n",
    "steganogan.fit(train, validation, epochs=100)"
   ]
  },
  {
   "cell_type": "markdown",
   "metadata": {},
   "source": [
    "Once the model is trained, we save the model to a .steg file. In this file, we save all the model weights and the architectures that these weights compose. Both the encoder and decoder are saved in the same file.\n",
    "\n",
    "The arguments taken are:\n",
    "- <b>path:str</b> - This is the path to save the model. Make sure that the directory exists. "
   ]
  },
  {
   "cell_type": "code",
   "execution_count": null,
   "metadata": {
    "scrolled": true
   },
   "outputs": [],
   "source": [
    "# Save the fitted model\n",
    "steganogan.save('demo_1.1.steg')"
   ]
  },
  {
   "cell_type": "markdown",
   "metadata": {},
   "source": [
    "## Loading and Executing a Model\n",
    "\n",
    "The next command loads a previously generated model. It takes a couple of different parameters. \n",
    "\n",
    "- <b>architecture:str</b> - You can select either 'basic' or 'dense' architectures. \n",
    "- <b>path:str</b> - The path to a model that you have previously generated. \n",
    "- <b>cuda:bool</b> - If true and the machine is CUDA-enabled, CUDA will be used for training/execution\n",
    "- <b>verbose:bool</b> - If true, the system will print more output to console\n",
    "\n",
    "Note: <b>either architectures or path but not both must not be None</b>"
   ]
  },
  {
   "cell_type": "code",
   "execution_count": 16,
   "metadata": {},
   "outputs": [
    {
     "name": "stdout",
     "output_type": "stream",
     "text": [
      "CUDA is not available. Defaulting to CPU device\n"
     ]
    }
   ],
   "source": [
    "# Load the model\n",
    "steganogan = SteganoGAN.load(architecture='basic', path=None, cuda=True, verbose=True)"
   ]
  },
  {
   "cell_type": "markdown",
   "metadata": {},
   "source": [
    "This function encodes an input image with a message and outputs a steganographic image. Note that since SteganoGAN only works on spatial-domains, the output image must be a PNG image.  \n",
    "\n",
    "The function takes the following arguments:\n",
    "- <b>input_image:str</b>: The path to the input image\n",
    "- <b>output_image:str</b>: The path to the output image\n",
    "- <b>secret_message:str</b>: The secret message you wish to embed.\n"
   ]
  },
  {
   "cell_type": "code",
   "execution_count": 17,
   "metadata": {},
   "outputs": [
    {
     "name": "stdout",
     "output_type": "stream",
     "text": [
      "Encoding completed.\n"
     ]
    }
   ],
   "source": [
    "# Encode a message in input.png\n",
    "steganogan.encode('input.png', 'output.png', 'This is a super secret message!')"
   ]
  },
  {
   "cell_type": "markdown",
   "metadata": {},
   "source": [
    "This function decode a steganographic image with a message and outputs a message. If no message is found, an error will be thrown by the function. Since steganoGAN encoders and decoders come in pairs, you <b>must</b> use the decoder that was trained with its corresponding encoder. \n",
    "\n",
    "The function takes the following arguments:\n",
    "- <b>stego_image:str</b>: The path to the steganographic image \n"
   ]
  },
  {
   "cell_type": "code",
   "execution_count": 18,
   "metadata": {},
   "outputs": [
    {
     "data": {
      "text/plain": [
       "'This is a super secret message!'"
      ]
     },
     "execution_count": 18,
     "metadata": {},
     "output_type": "execute_result"
    }
   ],
   "source": [
    "# Decode the message from output.png\n",
    "steganogan.decode('output.png')"
   ]
  }
 ],
 "metadata": {
  "kernelspec": {
   "display_name": "steggan",
   "language": "python",
   "name": "steggan"
  },
  "language_info": {
   "codemirror_mode": {
    "name": "ipython",
    "version": 3
   },
   "file_extension": ".py",
   "mimetype": "text/x-python",
   "name": "python",
   "nbconvert_exporter": "python",
   "pygments_lexer": "ipython3",
   "version": "3.7.10"
  }
 },
 "nbformat": 4,
 "nbformat_minor": 2
}
